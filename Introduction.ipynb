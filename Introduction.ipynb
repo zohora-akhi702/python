{
  "nbformat": 4,
  "nbformat_minor": 0,
  "metadata": {
    "colab": {
      "provenance": [],
      "toc_visible": true,
      "authorship_tag": "ABX9TyOLKWM3qnUeXcmDv397MYCB",
      "include_colab_link": true
    },
    "kernelspec": {
      "name": "python3",
      "display_name": "Python 3"
    },
    "language_info": {
      "name": "python"
    }
  },
  "cells": [
    {
      "cell_type": "markdown",
      "metadata": {
        "id": "view-in-github",
        "colab_type": "text"
      },
      "source": [
        "<a href=\"https://colab.research.google.com/github/zohora-akhi702/python/blob/main/Introduction.ipynb\" target=\"_parent\"><img src=\"https://colab.research.google.com/assets/colab-badge.svg\" alt=\"Open In Colab\"/></a>"
      ]
    },
    {
      "cell_type": "code",
      "execution_count": null,
      "metadata": {
        "colab": {
          "base_uri": "https://localhost:8080/"
        },
        "id": "LmeDutnm6dkc",
        "outputId": "cd36da8e-898d-4d04-c553-4d5a2970c356"
      },
      "outputs": [
        {
          "output_type": "stream",
          "name": "stdout",
          "text": [
            "welcome to skillmorph.\n"
          ]
        }
      ],
      "source": [
        "print(\"welcome to skillmorph.\")"
      ]
    },
    {
      "cell_type": "markdown",
      "source": [
        "# **Chapter-1**"
      ],
      "metadata": {
        "id": "h0ifHxfQ6_OR"
      }
    },
    {
      "cell_type": "markdown",
      "source": [
        "# **Sub Chapter-1**"
      ],
      "metadata": {
        "id": "kF_Xsg9m7b3w"
      }
    },
    {
      "cell_type": "code",
      "source": [],
      "metadata": {
        "id": "QrRZtze17fuH"
      },
      "execution_count": null,
      "outputs": []
    }
  ]
}